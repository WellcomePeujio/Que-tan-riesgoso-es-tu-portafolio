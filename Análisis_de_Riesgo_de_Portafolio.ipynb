{
  "nbformat": 4,
  "nbformat_minor": 0,
  "metadata": {
    "colab": {
      "private_outputs": true,
      "provenance": [],
      "authorship_tag": "ABX9TyNepKuzRwTtk+eNmrH+Tblb",
      "include_colab_link": true
    },
    "kernelspec": {
      "name": "python3",
      "display_name": "Python 3"
    },
    "language_info": {
      "name": "python"
    }
  },
  "cells": [
    {
      "cell_type": "markdown",
      "metadata": {
        "id": "view-in-github",
        "colab_type": "text"
      },
      "source": [
        "<a href=\"https://colab.research.google.com/github/WellcomePeujio/Que-tan-riesgoso-es-tu-portafolio/blob/main/An%C3%A1lisis_de_Riesgo_de_Portafolio.ipynb\" target=\"_parent\"><img src=\"https://colab.research.google.com/assets/colab-badge.svg\" alt=\"Open In Colab\"/></a>"
      ]
    },
    {
      "cell_type": "markdown",
      "source": [
        "# Análisis de Riesgo de Portafolio\n",
        "\n",
        "**Título**: \"¿Qué tan riesgoso es tu portafolio?\"\n",
        "\n",
        "**Problema**: Un portafolio está compuesto por dos activos con las siguientes características:\n",
        "\n",
        "| Activo | Rendimiento (%) | Riesgo (%) | Correlación |\n",
        "|--------|------------------|------------|-------------|\n",
        "| A      | 8               | 12         | 0.3         |\n",
        "| B      | 6               | 10         | 0.3         |\n",
        "\n",
        "**Preguntas**:\n",
        "\n",
        "1. Calcula el riesgo total del portafolio.\n",
        "2. ¿Qué pasa si la correlación aumenta a 0.6?\n",
        "3. Genera una visualización que muestre cómo cambia el riesgo total con diferentes correlaciones.\n"
      ],
      "metadata": {
        "id": "pkIPRViFnVS4"
      }
    },
    {
      "cell_type": "markdown",
      "source": [
        "# Resolución Matemática del Análisis de Riesgo de Portafolio\n",
        "\n",
        "## Paso 1: Fórmula del Riesgo Total del Portafolio\n",
        "\n",
        "El riesgo total $(\\sigma_P)$ de un portafolio con dos activos se calcula como:\n",
        "\n",
        "$$\n",
        "\\sigma_P = \\sqrt{(w_A \\cdot \\sigma_A)^2 + (w_B \\cdot \\sigma_B)^2 + 2 \\cdot w_A \\cdot w_B \\cdot \\sigma_A \\cdot \\sigma_B \\cdot \\rho_{A,B}}\n",
        "$$\n",
        "\n",
        "Donde:\n",
        "- $w_A$ y $w_B$: Pesos de los activos A y B en el portafolio.\n",
        "- $\\sigma_A$ y $\\sigma_B$: Riesgos (desviación estándar) de los activos A y B.\n",
        "- $\\rho_{A,B}$: Correlación entre los activos A y B.\n",
        "\n",
        "---\n",
        "\n",
        "## Paso 2: Datos del Problema\n",
        "\n",
        "Dado que ambos activos tienen la misma ponderación en el portafolio:\n",
        "\n",
        "$$\n",
        "w_A = w_B = 0.5\n",
        "$$\n",
        "\n",
        "Riesgo y correlación inicial:\n",
        "\n",
        "| Activo | $\\sigma$ (%) |\n",
        "|--------|--------------|\n",
        "| A      | 12           |\n",
        "| B      | 10           |\n",
        "\n",
        "$$\n",
        "\\rho_{A,B} = 0.3\n",
        "$$\n",
        "\n",
        "---\n",
        "\n",
        "## Paso 3: Cálculo del Riesgo Total con $\\rho_{A,B} = 0.3$\n",
        "\n",
        "Sustituyendo los valores en la fórmula:\n",
        "\n",
        "1. Calculamos las contribuciones al riesgo:\n",
        "\n",
        "   $$\n",
        "   (w_A \\cdot \\sigma_A)^2 = (0.5 \\cdot 12)^2 = 36\n",
        "   $$\n",
        "\n",
        "   $$\n",
        "   (w_B \\cdot \\sigma_B)^2 = (0.5 \\cdot 10)^2 = 25\n",
        "   $$\n",
        "\n",
        "   $$\n",
        "   2 \\cdot w_A \\cdot w_B \\cdot \\sigma_A \\cdot \\sigma_B \\cdot \\rho_{A,B} = 2 \\cdot 0.5 \\cdot 0.5 \\cdot 12 \\cdot 10 \\cdot 0.3 = 18\n",
        "   $$\n",
        "\n",
        "2. Sumamos estos valores y calculamos la raíz cuadrada:\n",
        "\n",
        "   $$\n",
        "   \\sigma_P = \\sqrt{36 + 25 + 18} = \\sqrt{79} \\approx 8.89\\%\n",
        "   $$\n",
        "\n",
        "---\n",
        "\n",
        "## Paso 4: Cálculo del Riesgo Total con $\\rho_{A,B} = 0.6$\n",
        "\n",
        "1. Calculamos nuevamente las contribuciones al riesgo con $\\rho_{A,B} = 0.6$:\n",
        "\n",
        "   $$\n",
        "   2 \\cdot w_A \\cdot w_B \\cdot \\sigma_A \\cdot \\sigma_B \\cdot \\rho_{A,B} = 2 \\cdot 0.5 \\cdot 0.5 \\cdot 12 \\cdot 10 \\cdot 0.6 = 36\n",
        "   $$\n",
        "\n",
        "2. Sumamos los valores y calculamos la raíz cuadrada:\n",
        "\n",
        "   $$\n",
        "   \\sigma_P = \\sqrt{36 + 25 + 36} = \\sqrt{97} \\approx 9.85\\%\n",
        "   $$\n",
        "\n",
        "---\n",
        "\n",
        "## Conclusiones\n",
        "\n",
        "1. Con una correlación de $0.3$, el riesgo total del portafolio es **8.89%**.\n",
        "2. Si la correlación aumenta a $0.6$, el riesgo total del portafolio sube a **9.85%**.\n",
        "3. Un aumento en la correlación incrementa el riesgo total del portafolio, lo que resalta la importancia de diversificar los activos con baja correlación.\n"
      ],
      "metadata": {
        "id": "CE_wvVe5nXHa"
      }
    },
    {
      "cell_type": "code",
      "source": [
        "import numpy as np\n",
        "import matplotlib.pyplot as plt\n",
        "\n",
        "# Datos del problema\n",
        "sigma_A = 12 / 100  # Riesgo del activo A (convertido a decimal)\n",
        "sigma_B = 10 / 100  # Riesgo del activo B (convertido a decimal)\n",
        "w_A = 0.5  # Peso del activo A\n",
        "w_B = 0.5  # Peso del activo B\n",
        "\n",
        "# Correlaciones a evaluar\n",
        "correlaciones = np.linspace(-1, 1, 100)  # Rango de correlaciones entre -1 y 1\n",
        "\n",
        "# Calcular el riesgo total del portafolio para cada correlación\n",
        "riesgos_portafolio = np.sqrt(\n",
        "    (w_A * sigma_A) ** 2 + (w_B * sigma_B) ** 2 + 2 * w_A * w_B * sigma_A * sigma_B * correlaciones\n",
        ")\n",
        "\n",
        "# Gráfica de la evolución del riesgo total con diferentes correlaciones\n",
        "plt.figure(figsize=(10, 6))\n",
        "plt.plot(correlaciones, riesgos_portafolio, label=\"Riesgo Total del Portafolio\", color=\"blue\")\n",
        "plt.axvline(0.3, color=\"green\", linestyle=\"--\", label=\"Correlación Inicial: 0.3\")\n",
        "plt.axvline(0.6, color=\"red\", linestyle=\"--\", label=\"Correlación Incrementada: 0.6\")\n",
        "plt.xlabel(\"Correlación entre los activos\")\n",
        "plt.ylabel(\"Riesgo Total del Portafolio (%)\")\n",
        "plt.title(\"Evolución del Riesgo Total del Portafolio con Diferentes Correlaciones\")\n",
        "plt.legend()\n",
        "plt.grid(True)\n",
        "plt.show()\n"
      ],
      "metadata": {
        "id": "ByCsSEsVnbxR"
      },
      "execution_count": null,
      "outputs": []
    }
  ]
}